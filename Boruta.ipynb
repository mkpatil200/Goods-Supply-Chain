{
 "cells": [
  {
   "cell_type": "markdown",
   "metadata": {},
   "source": [
    "# Goods Supply Chain"
   ]
  },
  {
   "cell_type": "markdown",
   "metadata": {},
   "source": [
    "# Load Libraries"
   ]
  },
  {
   "cell_type": "code",
   "execution_count": 5,
   "metadata": {},
   "outputs": [],
   "source": [
    "import numpy as np # package for numerical computations\n",
    "import pandas as pd # package for data analysis\n",
    "\n",
    "# libraries for visualization\n",
    "import matplotlib.pyplot as plt\n",
    "import seaborn as sns \n",
    "\n",
    "from sklearn.preprocessing import LabelEncoder # for converting categorical to numerical\n",
    "from sklearn.model_selection import train_test_split  # To split the dataset into train and test set\n",
    "from sklearn.ensemble import RandomForestClassifier  # RandomForest Classifier Model\n",
    "from sklearn.metrics import accuracy_score, confusion_matrix, classification_report # for model evaluation\n",
    "\n",
    "# to ignore warnings\n",
    "import warnings\n",
    "warnings.filterwarnings('ignore')"
   ]
  },
  {
   "cell_type": "markdown",
   "metadata": {},
   "source": [
    "# Load Data"
   ]
  },
  {
   "cell_type": "code",
   "execution_count": 6,
   "metadata": {},
   "outputs": [],
   "source": [
    "df = pd.read_csv('supply_chain.csv')"
   ]
  },
  {
   "cell_type": "code",
   "execution_count": 7,
   "metadata": {},
   "outputs": [
    {
     "data": {
      "text/html": [
       "<div>\n",
       "<style scoped>\n",
       "    .dataframe tbody tr th:only-of-type {\n",
       "        vertical-align: middle;\n",
       "    }\n",
       "\n",
       "    .dataframe tbody tr th {\n",
       "        vertical-align: top;\n",
       "    }\n",
       "\n",
       "    .dataframe thead th {\n",
       "        text-align: right;\n",
       "    }\n",
       "</style>\n",
       "<table border=\"1\" class=\"dataframe\">\n",
       "  <thead>\n",
       "    <tr style=\"text-align: right;\">\n",
       "      <th></th>\n",
       "      <th>supplier_id</th>\n",
       "      <th>sector</th>\n",
       "      <th>handle_with_care</th>\n",
       "      <th>Price</th>\n",
       "      <th>deliver_within</th>\n",
       "      <th>goods_season</th>\n",
       "      <th>plan</th>\n",
       "      <th>exceed_date</th>\n",
       "      <th>delivery</th>\n",
       "    </tr>\n",
       "  </thead>\n",
       "  <tbody>\n",
       "    <tr>\n",
       "      <th>0</th>\n",
       "      <td>31</td>\n",
       "      <td>Government Sector</td>\n",
       "      <td>Yes</td>\n",
       "      <td>400000</td>\n",
       "      <td>6</td>\n",
       "      <td>1</td>\n",
       "      <td>No</td>\n",
       "      <td>No</td>\n",
       "      <td>0</td>\n",
       "    </tr>\n",
       "    <tr>\n",
       "      <th>1</th>\n",
       "      <td>31</td>\n",
       "      <td>Private Sector</td>\n",
       "      <td>Yes</td>\n",
       "      <td>1250000</td>\n",
       "      <td>7</td>\n",
       "      <td>0</td>\n",
       "      <td>No</td>\n",
       "      <td>No</td>\n",
       "      <td>0</td>\n",
       "    </tr>\n",
       "    <tr>\n",
       "      <th>2</th>\n",
       "      <td>34</td>\n",
       "      <td>Private Sector</td>\n",
       "      <td>Yes</td>\n",
       "      <td>500000</td>\n",
       "      <td>4</td>\n",
       "      <td>1</td>\n",
       "      <td>No</td>\n",
       "      <td>No</td>\n",
       "      <td>1</td>\n",
       "    </tr>\n",
       "    <tr>\n",
       "      <th>3</th>\n",
       "      <td>28</td>\n",
       "      <td>Private Sector</td>\n",
       "      <td>Yes</td>\n",
       "      <td>700000</td>\n",
       "      <td>3</td>\n",
       "      <td>1</td>\n",
       "      <td>No</td>\n",
       "      <td>No</td>\n",
       "      <td>0</td>\n",
       "    </tr>\n",
       "    <tr>\n",
       "      <th>4</th>\n",
       "      <td>28</td>\n",
       "      <td>Private Sector</td>\n",
       "      <td>Yes</td>\n",
       "      <td>700000</td>\n",
       "      <td>8</td>\n",
       "      <td>1</td>\n",
       "      <td>Yes</td>\n",
       "      <td>No</td>\n",
       "      <td>0</td>\n",
       "    </tr>\n",
       "  </tbody>\n",
       "</table>\n",
       "</div>"
      ],
      "text/plain": [
       "   supplier_id             sector handle_with_care    Price  deliver_within  \\\n",
       "0           31  Government Sector              Yes   400000               6   \n",
       "1           31     Private Sector              Yes  1250000               7   \n",
       "2           34     Private Sector              Yes   500000               4   \n",
       "3           28     Private Sector              Yes   700000               3   \n",
       "4           28     Private Sector              Yes   700000               8   \n",
       "\n",
       "   goods_season plan exceed_date  delivery  \n",
       "0             1   No          No         0  \n",
       "1             0   No          No         0  \n",
       "2             1   No          No         1  \n",
       "3             1   No          No         0  \n",
       "4             1  Yes          No         0  "
      ]
     },
     "execution_count": 7,
     "metadata": {},
     "output_type": "execute_result"
    }
   ],
   "source": [
    "# Take a look at the first five observations\n",
    "df.head()"
   ]
  },
  {
   "cell_type": "code",
   "execution_count": 8,
   "metadata": {},
   "outputs": [
    {
     "name": "stdout",
     "output_type": "stream",
     "text": [
      "<class 'pandas.core.frame.DataFrame'>\n",
      "RangeIndex: 1987 entries, 0 to 1986\n",
      "Data columns (total 9 columns):\n",
      " #   Column            Non-Null Count  Dtype \n",
      "---  ------            --------------  ----- \n",
      " 0   supplier_id       1987 non-null   int64 \n",
      " 1   sector            1987 non-null   object\n",
      " 2   handle_with_care  1987 non-null   object\n",
      " 3   Price             1987 non-null   int64 \n",
      " 4   deliver_within    1987 non-null   int64 \n",
      " 5   goods_season      1987 non-null   int64 \n",
      " 6   plan              1987 non-null   object\n",
      " 7   exceed_date       1987 non-null   object\n",
      " 8   delivery          1987 non-null   int64 \n",
      "dtypes: int64(5), object(4)\n",
      "memory usage: 139.8+ KB\n"
     ]
    }
   ],
   "source": [
    "df.info()"
   ]
  },
  {
   "cell_type": "markdown",
   "metadata": {},
   "source": [
    "* We have 1987 rows and 9 columns\n",
    "* Non-null values for all the columns are 1987. \n",
    "* Columns such as supplier_id, Price, deliver_within, goods_season, delivery have Integer as a datatype \n",
    "* Columns such as sector, handle_with_care, plan, exceed_date have object as a datatype"
   ]
  },
  {
   "cell_type": "code",
   "execution_count": 47,
   "metadata": {},
   "outputs": [
    {
     "data": {
      "text/plain": [
       "(1987, 9)"
      ]
     },
     "execution_count": 47,
     "metadata": {},
     "output_type": "execute_result"
    }
   ],
   "source": [
    "# checking for dataset shape\n",
    "df.shape"
   ]
  },
  {
   "cell_type": "markdown",
   "metadata": {},
   "source": [
    "we have, 1987 rows and 9 columns"
   ]
  },
  {
   "cell_type": "markdown",
   "metadata": {},
   "source": [
    "# Checking for Null values"
   ]
  },
  {
   "cell_type": "code",
   "execution_count": 9,
   "metadata": {},
   "outputs": [
    {
     "data": {
      "text/plain": [
       "supplier_id         0\n",
       "sector              0\n",
       "handle_with_care    0\n",
       "Price               0\n",
       "deliver_within      0\n",
       "goods_season        0\n",
       "plan                0\n",
       "exceed_date         0\n",
       "delivery            0\n",
       "dtype: int64"
      ]
     },
     "execution_count": 9,
     "metadata": {},
     "output_type": "execute_result"
    }
   ],
   "source": [
    "df.isna().sum()"
   ]
  },
  {
   "cell_type": "markdown",
   "metadata": {},
   "source": [
    "There are no null values in our data"
   ]
  },
  {
   "cell_type": "code",
   "execution_count": 10,
   "metadata": {},
   "outputs": [
    {
     "data": {
      "text/plain": [
       "0    1277\n",
       "1     710\n",
       "Name: delivery, dtype: int64"
      ]
     },
     "execution_count": 10,
     "metadata": {},
     "output_type": "execute_result"
    }
   ],
   "source": [
    "# Tells us about the count of values present in column \n",
    "df['delivery'].value_counts()"
   ]
  },
  {
   "cell_type": "code",
   "execution_count": 48,
   "metadata": {},
   "outputs": [
    {
     "data": {
      "text/plain": [
       "<AxesSubplot:xlabel='delivery', ylabel='count'>"
      ]
     },
     "execution_count": 48,
     "metadata": {},
     "output_type": "execute_result"
    },
    {
     "data": {
      "image/png": "[encoded data removed]",
      "text/plain": [
       "<Figure size 432x288 with 1 Axes>"
      ]
     },
     "metadata": {
      "needs_background": "light"
     },
     "output_type": "display_data"
    }
   ],
   "source": [
    "sns.countplot(data=df, x='delivery')"
   ]
  },
  {
   "cell_type": "markdown",
   "metadata": {},
   "source": [
    "We have 1277 values belongs to class 0 and 710 values has class 1"
   ]
  },
  {
   "cell_type": "markdown",
   "metadata": {},
   "source": [
    "## Encoding"
   ]
  },
  {
   "cell_type": "code",
   "execution_count": 11,
   "metadata": {},
   "outputs": [],
   "source": [
    "# dividing the data into categorical and Numerical\n",
    "df_cat = df.select_dtypes(object)\n",
    "df_num = df.select_dtypes([\"int64\", \"float64\"])"
   ]
  },
  {
   "cell_type": "code",
   "execution_count": 12,
   "metadata": {},
   "outputs": [
    {
     "data": {
      "text/html": [
       "<div>\n",
       "<style scoped>\n",
       "    .dataframe tbody tr th:only-of-type {\n",
       "        vertical-align: middle;\n",
       "    }\n",
       "\n",
       "    .dataframe tbody tr th {\n",
       "        vertical-align: top;\n",
       "    }\n",
       "\n",
       "    .dataframe thead th {\n",
       "        text-align: right;\n",
       "    }\n",
       "</style>\n",
       "<table border=\"1\" class=\"dataframe\">\n",
       "  <thead>\n",
       "    <tr style=\"text-align: right;\">\n",
       "      <th></th>\n",
       "      <th>sector</th>\n",
       "      <th>handle_with_care</th>\n",
       "      <th>plan</th>\n",
       "      <th>exceed_date</th>\n",
       "    </tr>\n",
       "  </thead>\n",
       "  <tbody>\n",
       "    <tr>\n",
       "      <th>0</th>\n",
       "      <td>Government Sector</td>\n",
       "      <td>Yes</td>\n",
       "      <td>No</td>\n",
       "      <td>No</td>\n",
       "    </tr>\n",
       "    <tr>\n",
       "      <th>1</th>\n",
       "      <td>Private Sector</td>\n",
       "      <td>Yes</td>\n",
       "      <td>No</td>\n",
       "      <td>No</td>\n",
       "    </tr>\n",
       "    <tr>\n",
       "      <th>2</th>\n",
       "      <td>Private Sector</td>\n",
       "      <td>Yes</td>\n",
       "      <td>No</td>\n",
       "      <td>No</td>\n",
       "    </tr>\n",
       "    <tr>\n",
       "      <th>3</th>\n",
       "      <td>Private Sector</td>\n",
       "      <td>Yes</td>\n",
       "      <td>No</td>\n",
       "      <td>No</td>\n",
       "    </tr>\n",
       "    <tr>\n",
       "      <th>4</th>\n",
       "      <td>Private Sector</td>\n",
       "      <td>Yes</td>\n",
       "      <td>Yes</td>\n",
       "      <td>No</td>\n",
       "    </tr>\n",
       "  </tbody>\n",
       "</table>\n",
       "</div>"
      ],
      "text/plain": [
       "              sector handle_with_care plan exceed_date\n",
       "0  Government Sector              Yes   No          No\n",
       "1     Private Sector              Yes   No          No\n",
       "2     Private Sector              Yes   No          No\n",
       "3     Private Sector              Yes   No          No\n",
       "4     Private Sector              Yes  Yes          No"
      ]
     },
     "execution_count": 12,
     "metadata": {},
     "output_type": "execute_result"
    }
   ],
   "source": [
    "# categorical data\n",
    "df_cat.head()"
   ]
  },
  {
   "cell_type": "code",
   "execution_count": 13,
   "metadata": {},
   "outputs": [
    {
     "data": {
      "text/html": [
       "<div>\n",
       "<style scoped>\n",
       "    .dataframe tbody tr th:only-of-type {\n",
       "        vertical-align: middle;\n",
       "    }\n",
       "\n",
       "    .dataframe tbody tr th {\n",
       "        vertical-align: top;\n",
       "    }\n",
       "\n",
       "    .dataframe thead th {\n",
       "        text-align: right;\n",
       "    }\n",
       "</style>\n",
       "<table border=\"1\" class=\"dataframe\">\n",
       "  <thead>\n",
       "    <tr style=\"text-align: right;\">\n",
       "      <th></th>\n",
       "      <th>supplier_id</th>\n",
       "      <th>Price</th>\n",
       "      <th>deliver_within</th>\n",
       "      <th>goods_season</th>\n",
       "      <th>delivery</th>\n",
       "    </tr>\n",
       "  </thead>\n",
       "  <tbody>\n",
       "    <tr>\n",
       "      <th>0</th>\n",
       "      <td>31</td>\n",
       "      <td>400000</td>\n",
       "      <td>6</td>\n",
       "      <td>1</td>\n",
       "      <td>0</td>\n",
       "    </tr>\n",
       "    <tr>\n",
       "      <th>1</th>\n",
       "      <td>31</td>\n",
       "      <td>1250000</td>\n",
       "      <td>7</td>\n",
       "      <td>0</td>\n",
       "      <td>0</td>\n",
       "    </tr>\n",
       "    <tr>\n",
       "      <th>2</th>\n",
       "      <td>34</td>\n",
       "      <td>500000</td>\n",
       "      <td>4</td>\n",
       "      <td>1</td>\n",
       "      <td>1</td>\n",
       "    </tr>\n",
       "    <tr>\n",
       "      <th>3</th>\n",
       "      <td>28</td>\n",
       "      <td>700000</td>\n",
       "      <td>3</td>\n",
       "      <td>1</td>\n",
       "      <td>0</td>\n",
       "    </tr>\n",
       "    <tr>\n",
       "      <th>4</th>\n",
       "      <td>28</td>\n",
       "      <td>700000</td>\n",
       "      <td>8</td>\n",
       "      <td>1</td>\n",
       "      <td>0</td>\n",
       "    </tr>\n",
       "  </tbody>\n",
       "</table>\n",
       "</div>"
      ],
      "text/plain": [
       "   supplier_id    Price  deliver_within  goods_season  delivery\n",
       "0           31   400000               6             1         0\n",
       "1           31  1250000               7             0         0\n",
       "2           34   500000               4             1         1\n",
       "3           28   700000               3             1         0\n",
       "4           28   700000               8             1         0"
      ]
     },
     "execution_count": 13,
     "metadata": {},
     "output_type": "execute_result"
    }
   ],
   "source": [
    "# numerical data\n",
    "df_num.head()"
   ]
  },
  {
   "cell_type": "code",
   "execution_count": 14,
   "metadata": {},
   "outputs": [],
   "source": [
    "# Converting the categorical data into numerical data\n",
    "for col in df_cat:\n",
    "    le= LabelEncoder()\n",
    "    df_cat[col]=le.fit_transform(df_cat[col])"
   ]
  },
  {
   "cell_type": "code",
   "execution_count": 15,
   "metadata": {},
   "outputs": [
    {
     "data": {
      "text/html": [
       "<div>\n",
       "<style scoped>\n",
       "    .dataframe tbody tr th:only-of-type {\n",
       "        vertical-align: middle;\n",
       "    }\n",
       "\n",
       "    .dataframe tbody tr th {\n",
       "        vertical-align: top;\n",
       "    }\n",
       "\n",
       "    .dataframe thead th {\n",
       "        text-align: right;\n",
       "    }\n",
       "</style>\n",
       "<table border=\"1\" class=\"dataframe\">\n",
       "  <thead>\n",
       "    <tr style=\"text-align: right;\">\n",
       "      <th></th>\n",
       "      <th>sector</th>\n",
       "      <th>handle_with_care</th>\n",
       "      <th>plan</th>\n",
       "      <th>exceed_date</th>\n",
       "    </tr>\n",
       "  </thead>\n",
       "  <tbody>\n",
       "    <tr>\n",
       "      <th>0</th>\n",
       "      <td>0</td>\n",
       "      <td>1</td>\n",
       "      <td>0</td>\n",
       "      <td>0</td>\n",
       "    </tr>\n",
       "    <tr>\n",
       "      <th>1</th>\n",
       "      <td>1</td>\n",
       "      <td>1</td>\n",
       "      <td>0</td>\n",
       "      <td>0</td>\n",
       "    </tr>\n",
       "    <tr>\n",
       "      <th>2</th>\n",
       "      <td>1</td>\n",
       "      <td>1</td>\n",
       "      <td>0</td>\n",
       "      <td>0</td>\n",
       "    </tr>\n",
       "    <tr>\n",
       "      <th>3</th>\n",
       "      <td>1</td>\n",
       "      <td>1</td>\n",
       "      <td>0</td>\n",
       "      <td>0</td>\n",
       "    </tr>\n",
       "    <tr>\n",
       "      <th>4</th>\n",
       "      <td>1</td>\n",
       "      <td>1</td>\n",
       "      <td>1</td>\n",
       "      <td>0</td>\n",
       "    </tr>\n",
       "  </tbody>\n",
       "</table>\n",
       "</div>"
      ],
      "text/plain": [
       "   sector  handle_with_care  plan  exceed_date\n",
       "0       0                 1     0            0\n",
       "1       1                 1     0            0\n",
       "2       1                 1     0            0\n",
       "3       1                 1     0            0\n",
       "4       1                 1     1            0"
      ]
     },
     "execution_count": 15,
     "metadata": {},
     "output_type": "execute_result"
    }
   ],
   "source": [
    "# Numerical converted data\n",
    "df_cat.head()"
   ]
  },
  {
   "cell_type": "code",
   "execution_count": 16,
   "metadata": {},
   "outputs": [],
   "source": [
    "# concatinating both the data\n",
    "df= pd.concat([df_cat, df_num], axis=1)"
   ]
  },
  {
   "cell_type": "code",
   "execution_count": 17,
   "metadata": {},
   "outputs": [
    {
     "data": {
      "text/html": [
       "<div>\n",
       "<style scoped>\n",
       "    .dataframe tbody tr th:only-of-type {\n",
       "        vertical-align: middle;\n",
       "    }\n",
       "\n",
       "    .dataframe tbody tr th {\n",
       "        vertical-align: top;\n",
       "    }\n",
       "\n",
       "    .dataframe thead th {\n",
       "        text-align: right;\n",
       "    }\n",
       "</style>\n",
       "<table border=\"1\" class=\"dataframe\">\n",
       "  <thead>\n",
       "    <tr style=\"text-align: right;\">\n",
       "      <th></th>\n",
       "      <th>sector</th>\n",
       "      <th>handle_with_care</th>\n",
       "      <th>plan</th>\n",
       "      <th>exceed_date</th>\n",
       "      <th>supplier_id</th>\n",
       "      <th>Price</th>\n",
       "      <th>deliver_within</th>\n",
       "      <th>goods_season</th>\n",
       "      <th>delivery</th>\n",
       "    </tr>\n",
       "  </thead>\n",
       "  <tbody>\n",
       "    <tr>\n",
       "      <th>0</th>\n",
       "      <td>0</td>\n",
       "      <td>1</td>\n",
       "      <td>0</td>\n",
       "      <td>0</td>\n",
       "      <td>31</td>\n",
       "      <td>400000</td>\n",
       "      <td>6</td>\n",
       "      <td>1</td>\n",
       "      <td>0</td>\n",
       "    </tr>\n",
       "    <tr>\n",
       "      <th>1</th>\n",
       "      <td>1</td>\n",
       "      <td>1</td>\n",
       "      <td>0</td>\n",
       "      <td>0</td>\n",
       "      <td>31</td>\n",
       "      <td>1250000</td>\n",
       "      <td>7</td>\n",
       "      <td>0</td>\n",
       "      <td>0</td>\n",
       "    </tr>\n",
       "    <tr>\n",
       "      <th>2</th>\n",
       "      <td>1</td>\n",
       "      <td>1</td>\n",
       "      <td>0</td>\n",
       "      <td>0</td>\n",
       "      <td>34</td>\n",
       "      <td>500000</td>\n",
       "      <td>4</td>\n",
       "      <td>1</td>\n",
       "      <td>1</td>\n",
       "    </tr>\n",
       "    <tr>\n",
       "      <th>3</th>\n",
       "      <td>1</td>\n",
       "      <td>1</td>\n",
       "      <td>0</td>\n",
       "      <td>0</td>\n",
       "      <td>28</td>\n",
       "      <td>700000</td>\n",
       "      <td>3</td>\n",
       "      <td>1</td>\n",
       "      <td>0</td>\n",
       "    </tr>\n",
       "    <tr>\n",
       "      <th>4</th>\n",
       "      <td>1</td>\n",
       "      <td>1</td>\n",
       "      <td>1</td>\n",
       "      <td>0</td>\n",
       "      <td>28</td>\n",
       "      <td>700000</td>\n",
       "      <td>8</td>\n",
       "      <td>1</td>\n",
       "      <td>0</td>\n",
       "    </tr>\n",
       "  </tbody>\n",
       "</table>\n",
       "</div>"
      ],
      "text/plain": [
       "   sector  handle_with_care  plan  exceed_date  supplier_id    Price  \\\n",
       "0       0                 1     0            0           31   400000   \n",
       "1       1                 1     0            0           31  1250000   \n",
       "2       1                 1     0            0           34   500000   \n",
       "3       1                 1     0            0           28   700000   \n",
       "4       1                 1     1            0           28   700000   \n",
       "\n",
       "   deliver_within  goods_season  delivery  \n",
       "0               6             1         0  \n",
       "1               7             0         0  \n",
       "2               4             1         1  \n",
       "3               3             1         0  \n",
       "4               8             1         0  "
      ]
     },
     "execution_count": 17,
     "metadata": {},
     "output_type": "execute_result"
    }
   ],
   "source": [
    "df.head()"
   ]
  },
  {
   "cell_type": "markdown",
   "metadata": {},
   "source": [
    "# Prepare Train/Test Data\n",
    "\n",
    "Separating the input and output variables\n",
    "\n",
    "Before building any machine learning model, we always separate the input variables and output variables. Input variables are those quantities whose values are changed naturally in an experiment, whereas output variable is the one whose values are dependent on the input variables. So, input variables are also known as independent variables as its values are not dependent on any other quantity, and output variable/s are also known as dependent variables as its values are dependent on other variable i.e. input variables.\n",
    "\n",
    "By convention input variables are represented with 'x' and output variables are represented with 'y'."
   ]
  },
  {
   "cell_type": "code",
   "execution_count": 18,
   "metadata": {},
   "outputs": [],
   "source": [
    "x = df.iloc[:,:-1].values\n",
    "y = df.iloc[:,-1].values"
   ]
  },
  {
   "cell_type": "markdown",
   "metadata": {},
   "source": [
    "Train/test split\n",
    "\n",
    "We want to check the performance of the model that we built. For this purpose, we always split (both input and output data) the given data into training set which will be used to train the model, and test set which will be used to check how accurately the model is predicting outcomes.\n",
    "\n",
    "For this purpose we have a class called 'train_test_split' in the 'sklearn.model_selection' module."
   ]
  },
  {
   "cell_type": "code",
   "execution_count": 19,
   "metadata": {},
   "outputs": [],
   "source": [
    "xtrain, xtest, ytrain, ytest = train_test_split(x,y, test_size=0.25, random_state=1, stratify=y)"
   ]
  },
  {
   "cell_type": "markdown",
   "metadata": {},
   "source": [
    "To preserve the proportion of examples for each class label we use stratification splitting"
   ]
  },
  {
   "cell_type": "markdown",
   "metadata": {},
   "source": [
    "# Random Forest Model"
   ]
  },
  {
   "cell_type": "code",
   "execution_count": 20,
   "metadata": {},
   "outputs": [],
   "source": [
    "rf = RandomForestClassifier()\n",
    "rf.fit(xtrain, ytrain)\n",
    "ypred_train = rf.predict(xtrain)\n",
    "ypred_test = rf.predict(xtest)"
   ]
  },
  {
   "cell_type": "markdown",
   "metadata": {},
   "source": [
    "# Model Evaluation"
   ]
  },
  {
   "cell_type": "code",
   "execution_count": 21,
   "metadata": {},
   "outputs": [
    {
     "name": "stdout",
     "output_type": "stream",
     "text": [
      "Classification report for train data \n",
      " \n",
      "              precision    recall  f1-score   support\n",
      "\n",
      "           0       0.91      0.97      0.94       958\n",
      "           1       0.95      0.83      0.89       532\n",
      "\n",
      "    accuracy                           0.92      1490\n",
      "   macro avg       0.93      0.90      0.91      1490\n",
      "weighted avg       0.93      0.92      0.92      1490\n",
      "\n",
      "[[934  24]\n",
      " [ 89 443]]\n",
      " \n",
      "Classification report for test data \n",
      " \n",
      "              precision    recall  f1-score   support\n",
      "\n",
      "           0       0.82      0.87      0.84       319\n",
      "           1       0.74      0.65      0.69       178\n",
      "\n",
      "    accuracy                           0.79       497\n",
      "   macro avg       0.78      0.76      0.77       497\n",
      "weighted avg       0.79      0.79      0.79       497\n",
      "\n",
      "[[278  41]\n",
      " [ 63 115]]\n"
     ]
    }
   ],
   "source": [
    "print('Classification report for train data \\n ')\n",
    "print(classification_report(ytrain,ypred_train))    \n",
    "print(confusion_matrix(ytrain,ypred_train)) \n",
    "print(' ')\n",
    "print('Classification report for test data \\n ')\n",
    "print(classification_report(ytest,ypred_test))    \n",
    "print(confusion_matrix(ytest,ypred_test))"
   ]
  },
  {
   "cell_type": "markdown",
   "metadata": {},
   "source": [
    "# Random Forest and Boruta"
   ]
  },
  {
   "cell_type": "code",
   "execution_count": 22,
   "metadata": {},
   "outputs": [
    {
     "name": "stdout",
     "output_type": "stream",
     "text": [
      "Collecting Boruta\n",
      "  Downloading Boruta-0.3-py3-none-any.whl (56 kB)\n",
      "Requirement already satisfied: scikit-learn>=0.17.1 in c:\\users\\hp\\anaconda3\\lib\\site-packages (from Boruta) (0.24.1)\n",
      "Requirement already satisfied: scipy>=0.17.0 in c:\\users\\hp\\anaconda3\\lib\\site-packages (from Boruta) (1.6.2)\n",
      "Requirement already satisfied: numpy>=1.10.4 in c:\\users\\hp\\anaconda3\\lib\\site-packages (from Boruta) (1.20.1)\n",
      "Requirement already satisfied: joblib>=0.11 in c:\\users\\hp\\anaconda3\\lib\\site-packages (from scikit-learn>=0.17.1->Boruta) (1.0.1)\n",
      "Requirement already satisfied: threadpoolctl>=2.0.0 in c:\\users\\hp\\anaconda3\\lib\\site-packages (from scikit-learn>=0.17.1->Boruta) (2.1.0)\n",
      "Installing collected packages: Boruta\n",
      "Successfully installed Boruta-0.3\n"
     ]
    }
   ],
   "source": [
    "!pip install Boruta"
   ]
  },
  {
   "cell_type": "code",
   "execution_count": 23,
   "metadata": {},
   "outputs": [],
   "source": [
    "from boruta import BorutaPy"
   ]
  },
  {
   "cell_type": "code",
   "execution_count": 24,
   "metadata": {},
   "outputs": [
    {
     "name": "stdout",
     "output_type": "stream",
     "text": [
      "Iteration: \t1 / 100\n",
      "Confirmed: \t0\n",
      "Tentative: \t8\n",
      "Rejected: \t0\n",
      "Iteration: \t2 / 100\n",
      "Confirmed: \t0\n",
      "Tentative: \t8\n",
      "Rejected: \t0\n",
      "Iteration: \t3 / 100\n",
      "Confirmed: \t0\n",
      "Tentative: \t8\n",
      "Rejected: \t0\n",
      "Iteration: \t4 / 100\n",
      "Confirmed: \t0\n",
      "Tentative: \t8\n",
      "Rejected: \t0\n",
      "Iteration: \t5 / 100\n",
      "Confirmed: \t0\n",
      "Tentative: \t8\n",
      "Rejected: \t0\n",
      "Iteration: \t6 / 100\n",
      "Confirmed: \t0\n",
      "Tentative: \t8\n",
      "Rejected: \t0\n",
      "Iteration: \t7 / 100\n",
      "Confirmed: \t0\n",
      "Tentative: \t8\n",
      "Rejected: \t0\n",
      "Iteration: \t8 / 100\n",
      "Confirmed: \t5\n",
      "Tentative: \t0\n",
      "Rejected: \t3\n",
      "\n",
      "\n",
      "BorutaPy finished running.\n",
      "\n",
      "Iteration: \t9 / 100\n",
      "Confirmed: \t5\n",
      "Tentative: \t0\n",
      "Rejected: \t3\n"
     ]
    },
    {
     "data": {
      "text/plain": [
       "BorutaPy(estimator=RandomForestClassifier(max_depth=5, n_estimators=80,\n",
       "                                          random_state=RandomState(MT19937) at 0x2627E120B40),\n",
       "         n_estimators='auto',\n",
       "         random_state=RandomState(MT19937) at 0x2627E120B40, verbose=2)"
      ]
     },
     "execution_count": 24,
     "metadata": {},
     "output_type": "execute_result"
    }
   ],
   "source": [
    "rfc = RandomForestClassifier(random_state=1, n_estimators=1000, max_depth=5)\n",
    "boruta_selector = BorutaPy(rfc, n_estimators='auto', verbose=2, random_state=1)   # initialize the boruta selector\n",
    "boruta_selector.fit(np.array(xtrain), np.array(ytrain))       # fitting the boruta selector to get all relavent features. \n",
    "# NOTE: BorutaPy accepts numpy arrays only."
   ]
  },
  {
   "cell_type": "code",
   "execution_count": 25,
   "metadata": {},
   "outputs": [
    {
     "name": "stdout",
     "output_type": "stream",
     "text": [
      "Selected Features:  [False False  True  True  True  True  True False]\n",
      "Ranking:  [2 3 1 1 1 1 1 4]\n",
      "No. of significant features:  5\n"
     ]
    }
   ],
   "source": [
    "print(\"Selected Features: \", boruta_selector.support_)    # check selected features\n",
    " \n",
    "\n",
    "print(\"Ranking: \",boruta_selector.ranking_)               # check ranking of features\n",
    "\n",
    "print(\"No. of significant features: \", boruta_selector.n_features_)"
   ]
  },
  {
   "cell_type": "code",
   "execution_count": 30,
   "metadata": {},
   "outputs": [],
   "source": [
    "#Create a new subset of the data with only the selected features\n",
    "X_important_train = boruta_selector.transform(np.array(xtrain))\n",
    "X_important_test = boruta_selector.transform(np.array(xtest))"
   ]
  },
  {
   "cell_type": "code",
   "execution_count": 32,
   "metadata": {},
   "outputs": [],
   "source": [
    "# Create a new random forest classifier for the most important features\n",
    "rf = RandomForestClassifier()\n",
    "\n",
    "# Train the new classifier on the new dataset containing the most important features\n",
    "rf.fit(X_important_train, ytrain)\n",
    "ypred_train = rf.predict(X_important_train)\n",
    "ypred_test = rf.predict(X_important_test)"
   ]
  },
  {
   "cell_type": "markdown",
   "metadata": {},
   "source": [
    "# Model Evaluation"
   ]
  },
  {
   "cell_type": "code",
   "execution_count": 33,
   "metadata": {},
   "outputs": [
    {
     "name": "stdout",
     "output_type": "stream",
     "text": [
      "Classification report for train data \n",
      " \n",
      "              precision    recall  f1-score   support\n",
      "\n",
      "           0       0.89      0.96      0.92       958\n",
      "           1       0.91      0.79      0.85       532\n",
      "\n",
      "    accuracy                           0.90      1490\n",
      "   macro avg       0.90      0.87      0.89      1490\n",
      "weighted avg       0.90      0.90      0.90      1490\n",
      "\n",
      "[[918  40]\n",
      " [111 421]]\n",
      " \n",
      "Classification report for test data \n",
      " \n",
      "              precision    recall  f1-score   support\n",
      "\n",
      "           0       0.82      0.89      0.85       319\n",
      "           1       0.77      0.65      0.70       178\n",
      "\n",
      "    accuracy                           0.80       497\n",
      "   macro avg       0.80      0.77      0.78       497\n",
      "weighted avg       0.80      0.80      0.80       497\n",
      "\n",
      "[[285  34]\n",
      " [ 63 115]]\n"
     ]
    }
   ],
   "source": [
    "print('Classification report for train data \\n ')\n",
    "print(classification_report(ytrain,ypred_train))    \n",
    "print(confusion_matrix(ytrain,ypred_train)) \n",
    "print(' ')\n",
    "print('Classification report for test data \\n ')\n",
    "print(classification_report(ytest,ypred_test))    \n",
    "print(confusion_matrix(ytest,ypred_test))"
   ]
  },
  {
   "cell_type": "markdown",
   "metadata": {},
   "source": [
    "# Hyperparameter Tunning"
   ]
  },
  {
   "cell_type": "code",
   "execution_count": 34,
   "metadata": {},
   "outputs": [],
   "source": [
    "rff = RandomForestClassifier(n_estimators=200, max_depth=10, min_samples_leaf=7, random_state=101)\n",
    "rff.fit(X_important_train, ytrain)\n",
    "ypred_train = rff.predict(X_important_train)\n",
    "ypred_test = rff.predict(X_important_test)"
   ]
  },
  {
   "cell_type": "code",
   "execution_count": 35,
   "metadata": {},
   "outputs": [
    {
     "name": "stdout",
     "output_type": "stream",
     "text": [
      "Classification report for train data \n",
      " \n",
      "              precision    recall  f1-score   support\n",
      "\n",
      "           0       0.81      0.96      0.88       958\n",
      "           1       0.90      0.60      0.72       532\n",
      "\n",
      "    accuracy                           0.83      1490\n",
      "   macro avg       0.86      0.78      0.80      1490\n",
      "weighted avg       0.85      0.83      0.83      1490\n",
      "\n",
      "[[924  34]\n",
      " [212 320]]\n",
      " \n",
      "Classification report for test data \n",
      " \n",
      "              precision    recall  f1-score   support\n",
      "\n",
      "           0       0.82      0.95      0.88       319\n",
      "           1       0.88      0.62      0.73       178\n",
      "\n",
      "    accuracy                           0.84       497\n",
      "   macro avg       0.85      0.79      0.81       497\n",
      "weighted avg       0.84      0.84      0.83       497\n",
      "\n",
      "[[304  15]\n",
      " [ 67 111]]\n"
     ]
    }
   ],
   "source": [
    "print('Classification report for train data \\n ')\n",
    "print(classification_report(ytrain,ypred_train))    \n",
    "print(confusion_matrix(ytrain,ypred_train)) \n",
    "print(' ')\n",
    "print('Classification report for test data \\n ')\n",
    "print(classification_report(ytest,ypred_test))    \n",
    "print(confusion_matrix(ytest,ypred_test))"
   ]
  },
  {
   "cell_type": "markdown",
   "metadata": {},
   "source": [
    "## GridSearchCV"
   ]
  },
  {
   "cell_type": "code",
   "execution_count": 37,
   "metadata": {},
   "outputs": [],
   "source": [
    "from sklearn.model_selection import GridSearchCV\n",
    "# Create the parameter grid based on the results of random search \n",
    "param_grid = {\n",
    "    'bootstrap': [True, False],\n",
    "    'max_depth': [5, 10, 15],\n",
    "    'n_estimators': [500, 1000]}"
   ]
  },
  {
   "cell_type": "code",
   "execution_count": 38,
   "metadata": {},
   "outputs": [],
   "source": [
    "rf = RandomForestClassifier(random_state = 1)\n",
    "\n",
    "# Grid search cv\n",
    "grid_search = GridSearchCV(estimator = rf, param_grid = param_grid, \n",
    "                          cv = 2, n_jobs = -1, verbose = 2)"
   ]
  },
  {
   "cell_type": "code",
   "execution_count": 40,
   "metadata": {},
   "outputs": [
    {
     "name": "stdout",
     "output_type": "stream",
     "text": [
      "Fitting 2 folds for each of 12 candidates, totalling 24 fits\n"
     ]
    },
    {
     "data": {
      "text/plain": [
       "GridSearchCV(cv=2, estimator=RandomForestClassifier(random_state=1), n_jobs=-1,\n",
       "             param_grid={'bootstrap': [True, False], 'max_depth': [5, 10, 15],\n",
       "                         'n_estimators': [500, 1000]},\n",
       "             verbose=2)"
      ]
     },
     "execution_count": 40,
     "metadata": {},
     "output_type": "execute_result"
    }
   ],
   "source": [
    "grid_search.fit(X_important_train, ytrain)"
   ]
  },
  {
   "cell_type": "code",
   "execution_count": 41,
   "metadata": {},
   "outputs": [
    {
     "data": {
      "text/plain": [
       "{'bootstrap': True, 'max_depth': 5, 'n_estimators': 500}"
      ]
     },
     "execution_count": 41,
     "metadata": {},
     "output_type": "execute_result"
    }
   ],
   "source": [
    "grid_search.best_params_"
   ]
  },
  {
   "cell_type": "markdown",
   "metadata": {},
   "source": [
    "# Model Evaluation"
   ]
  },
  {
   "cell_type": "code",
   "execution_count": 44,
   "metadata": {},
   "outputs": [
    {
     "name": "stdout",
     "output_type": "stream",
     "text": [
      "Classification report for train data \n",
      " \n",
      "              precision    recall  f1-score   support\n",
      "\n",
      "           0       0.81      0.96      0.88       958\n",
      "           1       0.90      0.60      0.72       532\n",
      "\n",
      "    accuracy                           0.83      1490\n",
      "   macro avg       0.86      0.78      0.80      1490\n",
      "weighted avg       0.85      0.83      0.83      1490\n",
      "\n",
      "[[924  34]\n",
      " [212 320]]\n",
      " \n",
      "Classification report for test data \n",
      " \n",
      "              precision    recall  f1-score   support\n",
      "\n",
      "           0       0.82      0.95      0.88       319\n",
      "           1       0.88      0.62      0.73       178\n",
      "\n",
      "    accuracy                           0.84       497\n",
      "   macro avg       0.85      0.79      0.81       497\n",
      "weighted avg       0.84      0.84      0.83       497\n",
      "\n",
      "[[304  15]\n",
      " [ 67 111]]\n"
     ]
    }
   ],
   "source": [
    "print('Classification report for train data \\n ')\n",
    "print(classification_report(ytrain,ypred_train))    \n",
    "print(confusion_matrix(ytrain,ypred_train)) \n",
    "print(' ')\n",
    "print('Classification report for test data \\n ')\n",
    "print(classification_report(ytest,ypred_test))    \n",
    "print(confusion_matrix(ytest,ypred_test))"
   ]
  }
 ],
 "metadata": {
  "kernelspec": {
   "display_name": "Python 3",
   "language": "python",
   "name": "python3"
  },
  "language_info": {
   "codemirror_mode": {
    "name": "ipython",
    "version": 3
   },
   "file_extension": ".py",
   "mimetype": "text/x-python",
   "name": "python",
   "nbconvert_exporter": "python",
   "pygments_lexer": "ipython3",
   "version": "3.8.8"
  }
 },
 "nbformat": 4,
 "nbformat_minor": 4
}
